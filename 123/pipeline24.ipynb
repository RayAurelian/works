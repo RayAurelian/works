{
 "cells": [
  {
   "cell_type": "code",
   "execution_count": null,
   "id": "cb372d51-18f8-4fa1-b922-7bb7a5e696e7",
   "metadata": {
    "tags": []
   },
   "outputs": [],
   "source": [
    "print(\"create a pipeline!!!!\")"
   ]
  },
  {
   "cell_type": "code",
   "execution_count": null,
   "id": "44cd9301-9a65-4574-b389-84c64366aebc",
   "metadata": {},
   "outputs": [],
   "source": [
    "add = int(input())"
   ]
  },
  {
   "cell_type": "code",
   "execution_count": null,
   "id": "48e38a92-03a6-45ea-9bf5-7da189371ab4",
   "metadata": {
    "tags": []
   },
   "outputs": [],
   "source": [
    "if add > 3:\n",
    "    print (\">3\")\n",
    "else:\n",
    "    print(\"<3\")"
   ]
  },
  {
   "cell_type": "code",
   "execution_count": null,
   "id": "86ca519b-a448-4735-b1e0-b68e63ca1f5d",
   "metadata": {},
   "outputs": [],
   "source": []
  }
 ],
 "metadata": {
  "kernelspec": {
   "display_name": "Python 3 (ipykernel)",
   "language": "python",
   "name": "python3"
  },
  "language_info": {
   "codemirror_mode": {
    "name": "ipython",
    "version": 3
   },
   "file_extension": ".py",
   "mimetype": "text/x-python",
   "name": "python",
   "nbconvert_exporter": "python",
   "pygments_lexer": "ipython3",
   "version": "3.11.7"
  },
  "toc-autonumbering": true,
  "toc-showcode": true,
  "toc-showmarkdowntxt": true
 },
 "nbformat": 4,
 "nbformat_minor": 5
}
