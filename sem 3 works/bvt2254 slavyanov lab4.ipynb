{
 "cells": [
  {
   "cell_type": "code",
   "execution_count": 1,
   "id": "be9d0c81",
   "metadata": {},
   "outputs": [],
   "source": [
    "import pandas as pd ; import matplotlib.pyplot as plt ; import numpy as npy ; from io import BytesIO\n",
    "import requests \n",
    "from sklearn.model_selection import train_test_split\n",
    "from sklearn.preprocessing import StandardScaler\n",
    "from sklearn.preprocessing import OneHotEncoder\n",
    "from sklearn.tree import DecisionTreeClassifier \n",
    "from sklearn.linear_model import LogisticRegression\n",
    "from sklearn.metrics import accuracy_score\n",
    "from sklearn.utils import class_weight\n",
    "from sklearn.metrics import precision_score\n",
    "from sklearn.metrics import recall_score\n",
    "from sklearn.metrics import f1_score \n",
    "from sklearn.metrics import confusion_matrix\n",
    "from sklearn.ensemble import RandomForestClassifier\n",
    "from sklearn.datasets import make_classification\n",
    "from sklearn import metrics"
   ]
  },
  {
   "cell_type": "code",
   "execution_count": 2,
   "id": "ad44488d",
   "metadata": {},
   "outputs": [],
   "source": [
    "spreadsheet_id = '1kf-306lcKBKtYcULzT1FqECbF6FJx6mKpyDqbr1TfbY'\n",
    "file_name = 'https://docs.google.com/spreadsheets/d/{}/export?format=csv'.format(spreadsheet_id)\n",
    "r = requests.get(file_name) \n",
    "df=pd.read_csv(BytesIO(r.content))"
   ]
  },
  {
   "cell_type": "code",
   "execution_count": 3,
   "id": "8cc833a0",
   "metadata": {},
   "outputs": [
    {
     "name": "stdout",
     "output_type": "stream",
     "text": [
      "<class 'pandas.core.frame.DataFrame'>\n",
      "RangeIndex: 1429 entries, 0 to 1428\n",
      "Data columns (total 23 columns):\n",
      " #   Column                 Non-Null Count  Dtype  \n",
      "---  ------                 --------------  -----  \n",
      " 0   Survey_id              1429 non-null   int64  \n",
      " 1   Ville_id               1429 non-null   int64  \n",
      " 2   sex                    1429 non-null   int64  \n",
      " 3   Age                    1429 non-null   int64  \n",
      " 4   Married                1429 non-null   int64  \n",
      " 5   Number_children        1429 non-null   int64  \n",
      " 6   education_level        1429 non-null   int64  \n",
      " 7   total_members          1429 non-null   int64  \n",
      " 8   gained_asset           1429 non-null   int64  \n",
      " 9   durable_asset          1429 non-null   int64  \n",
      " 10  save_asset             1429 non-null   int64  \n",
      " 11  living_expenses        1429 non-null   int64  \n",
      " 12  other_expenses         1429 non-null   int64  \n",
      " 13  incoming_salary        1429 non-null   int64  \n",
      " 14  incoming_own_farm      1429 non-null   int64  \n",
      " 15  incoming_business      1429 non-null   int64  \n",
      " 16  incoming_no_business   1429 non-null   int64  \n",
      " 17  incoming_agricultural  1429 non-null   int64  \n",
      " 18  farm_expenses          1429 non-null   int64  \n",
      " 19  labor_primary          1429 non-null   int64  \n",
      " 20  lasting_investment     1429 non-null   int64  \n",
      " 21  no_lasting_investmen   1409 non-null   float64\n",
      " 22  depressed              1429 non-null   int64  \n",
      "dtypes: float64(1), int64(22)\n",
      "memory usage: 256.9 KB\n",
      "None\n"
     ]
    }
   ],
   "source": [
    "print(df.info())"
   ]
  },
  {
   "cell_type": "code",
   "execution_count": 4,
   "id": "7c45ff55",
   "metadata": {},
   "outputs": [
    {
     "name": "stdout",
     "output_type": "stream",
     "text": [
      "Survey_id                 0\n",
      "Ville_id                  0\n",
      "sex                       0\n",
      "Age                       0\n",
      "Married                   0\n",
      "Number_children           0\n",
      "education_level           0\n",
      "total_members             0\n",
      "gained_asset              0\n",
      "durable_asset             0\n",
      "save_asset                0\n",
      "living_expenses           0\n",
      "other_expenses            0\n",
      "incoming_salary           0\n",
      "incoming_own_farm         0\n",
      "incoming_business         0\n",
      "incoming_no_business      0\n",
      "incoming_agricultural     0\n",
      "farm_expenses             0\n",
      "labor_primary             0\n",
      "lasting_investment        0\n",
      "no_lasting_investmen     20\n",
      "depressed                 0\n",
      "dtype: int64\n"
     ]
    }
   ],
   "source": [
    "print(df.isna().sum())"
   ]
  },
  {
   "cell_type": "code",
   "execution_count": 5,
   "id": "491fe553",
   "metadata": {},
   "outputs": [],
   "source": [
    "df=df.dropna()"
   ]
  },
  {
   "cell_type": "code",
   "execution_count": 6,
   "id": "c5828c9e",
   "metadata": {},
   "outputs": [
    {
     "data": {
      "text/html": [
       "<div>\n",
       "<style scoped>\n",
       "    .dataframe tbody tr th:only-of-type {\n",
       "        vertical-align: middle;\n",
       "    }\n",
       "\n",
       "    .dataframe tbody tr th {\n",
       "        vertical-align: top;\n",
       "    }\n",
       "\n",
       "    .dataframe thead th {\n",
       "        text-align: right;\n",
       "    }\n",
       "</style>\n",
       "<table border=\"1\" class=\"dataframe\">\n",
       "  <thead>\n",
       "    <tr style=\"text-align: right;\">\n",
       "      <th></th>\n",
       "      <th>Survey_id</th>\n",
       "      <th>Ville_id</th>\n",
       "      <th>sex</th>\n",
       "      <th>Age</th>\n",
       "      <th>Married</th>\n",
       "      <th>Number_children</th>\n",
       "      <th>education_level</th>\n",
       "      <th>total_members</th>\n",
       "      <th>gained_asset</th>\n",
       "      <th>durable_asset</th>\n",
       "      <th>...</th>\n",
       "      <th>incoming_salary</th>\n",
       "      <th>incoming_own_farm</th>\n",
       "      <th>incoming_business</th>\n",
       "      <th>incoming_no_business</th>\n",
       "      <th>incoming_agricultural</th>\n",
       "      <th>farm_expenses</th>\n",
       "      <th>labor_primary</th>\n",
       "      <th>lasting_investment</th>\n",
       "      <th>no_lasting_investmen</th>\n",
       "      <th>depressed</th>\n",
       "    </tr>\n",
       "  </thead>\n",
       "  <tbody>\n",
       "  </tbody>\n",
       "</table>\n",
       "<p>0 rows × 23 columns</p>\n",
       "</div>"
      ],
      "text/plain": [
       "Empty DataFrame\n",
       "Columns: [Survey_id, Ville_id, sex, Age, Married, Number_children, education_level, total_members, gained_asset, durable_asset, save_asset, living_expenses, other_expenses, incoming_salary, incoming_own_farm, incoming_business, incoming_no_business, incoming_agricultural, farm_expenses, labor_primary, lasting_investment, no_lasting_investmen, depressed]\n",
       "Index: []\n",
       "\n",
       "[0 rows x 23 columns]"
      ]
     },
     "execution_count": 6,
     "metadata": {},
     "output_type": "execute_result"
    }
   ],
   "source": [
    "duplicateRows = df[df.duplicated ()]\n",
    "duplicateRows"
   ]
  },
  {
   "cell_type": "code",
   "execution_count": 7,
   "id": "db22a6ff",
   "metadata": {},
   "outputs": [],
   "source": [
    "df=df.drop_duplicates ()"
   ]
  },
  {
   "cell_type": "code",
   "execution_count": 8,
   "id": "80768ce0",
   "metadata": {},
   "outputs": [
    {
     "name": "stderr",
     "output_type": "stream",
     "text": [
      "C:\\ProgramData\\anaconda3\\Lib\\site-packages\\pandas\\core\\internals\\blocks.py:329: RuntimeWarning: divide by zero encountered in log\n",
      "  result = func(self.values, **kwargs)\n"
     ]
    }
   ],
   "source": [
    "logdf=npy.log(df)"
   ]
  },
  {
   "cell_type": "code",
   "execution_count": 9,
   "id": "0ba2049c",
   "metadata": {},
   "outputs": [],
   "source": [
    "df = df.drop(['Survey_id', 'Ville_id'], axis=1)"
   ]
  },
  {
   "cell_type": "code",
   "execution_count": 10,
   "id": "3913d459",
   "metadata": {},
   "outputs": [],
   "source": [
    "depr=df[['depressed']]"
   ]
  },
  {
   "cell_type": "code",
   "execution_count": 11,
   "id": "956c6db9",
   "metadata": {},
   "outputs": [],
   "source": [
    "model= df.drop('depressed', axis = 1) \n",
    "model_train, model_test,mdep_train, mdep_test = train_test_split(model,depr, test_size=0.30, random_state=23765) \n",
    "scaler = StandardScaler()"
   ]
  },
  {
   "cell_type": "code",
   "execution_count": 12,
   "id": "8c25c840",
   "metadata": {},
   "outputs": [],
   "source": [
    "mtrain_s=scaler.fit_transform(model_train.select_dtypes(exclude=['object']))\n",
    "mtest_s=scaler.transform(model_test.select_dtypes(exclude=['object']))\n",
    "mdeptrn_s=scaler.fit_transform(mdep_train.select_dtypes(exclude=['object']))\n",
    "mdeptst_s=scaler.transform(mdep_test.select_dtypes(exclude=['object']))\n",
    "df_mtrain_s = pd.DataFrame(data=mtrain_s , columns=['sex', 'Age', 'Married', 'Number_children', 'education_level', 'total_members', 'gained_asset', 'durable_asset', 'save_asset', 'living_expenses', 'other_expenses','incoming_salary','incoming_own_farm', 'incoming_business', 'incoming_no_business', 'incoming_agricultural', 'farm_expenses', 'labor_primary', 'lasting_investment', 'no_lasting_investmen'])\n",
    "df_mtest_s = pd.DataFrame(data=mtest_s, columns=['sex', 'Age', 'Married', 'Number_children', 'education_level', 'total_members', 'gained_asset', 'durable_asset', 'save_asset', 'living_expenses', 'other_expenses','incoming_salary','incoming_own_farm', 'incoming_business', 'incoming_no_business', 'incoming_agricultural', 'farm_expenses', 'labor_primary', 'lasting_investment', 'no_lasting_investmen'])\n",
    "df_mdeptrn_s = pd.DataFrame(data=mdeptrn_s, columns=['depressed']) \n",
    "df_mdeptst_s = pd.DataFrame(data=mdeptst_s, columns=['depressed'])  "
   ]
  },
  {
   "cell_type": "code",
   "execution_count": 13,
   "id": "92304062",
   "metadata": {},
   "outputs": [
    {
     "data": {
      "text/plain": [
       "['sex',\n",
       " 'Age',\n",
       " 'Married',\n",
       " 'Number_children',\n",
       " 'education_level',\n",
       " 'total_members',\n",
       " 'gained_asset',\n",
       " 'durable_asset',\n",
       " 'save_asset',\n",
       " 'living_expenses',\n",
       " 'other_expenses',\n",
       " 'incoming_salary',\n",
       " 'incoming_own_farm',\n",
       " 'incoming_business',\n",
       " 'incoming_no_business',\n",
       " 'incoming_agricultural',\n",
       " 'farm_expenses',\n",
       " 'labor_primary',\n",
       " 'lasting_investment',\n",
       " 'no_lasting_investmen',\n",
       " 'depressed']"
      ]
     },
     "execution_count": 13,
     "metadata": {},
     "output_type": "execute_result"
    }
   ],
   "source": [
    "# OHE мы не делаем, так как у нас вся информация числовая, \n",
    "# да и у нас вышел слишком крупный массив данных с сравнением такого количества столбцов и их значений \n",
    "column_names = df.columns.tolist()\n",
    "column_names"
   ]
  },
  {
   "cell_type": "code",
   "execution_count": 14,
   "id": "6dc77f0b",
   "metadata": {
    "scrolled": false
   },
   "outputs": [
    {
     "name": "stderr",
     "output_type": "stream",
     "text": [
      "C:\\ProgramData\\anaconda3\\Lib\\site-packages\\sklearn\\utils\\validation.py:1184: DataConversionWarning: A column-vector y was passed when a 1d array was expected. Please change the shape of y to (n_samples, ), for example using ravel().\n",
      "  y = column_or_1d(y, warn=True)\n",
      "C:\\ProgramData\\anaconda3\\Lib\\site-packages\\sklearn\\base.py:457: UserWarning: X has feature names, but LogisticRegression was fitted without feature names\n",
      "  warnings.warn(\n"
     ]
    }
   ],
   "source": [
    "log_reg = LogisticRegression(solver='lbfgs')\n",
    "log_reg.fit(mtrain_s, mdep_train)\n",
    "predict_log_reg=log_reg.predict(df_mtest_s)"
   ]
  },
  {
   "cell_type": "code",
   "execution_count": 15,
   "id": "2b25df7f",
   "metadata": {},
   "outputs": [
    {
     "name": "stdout",
     "output_type": "stream",
     "text": [
      "Акуратность модели в процентах 84.39716312056737\n"
     ]
    }
   ],
   "source": [
    "\n",
    "print('Акуратность модели в процентах',(accuracy_score(mdep_test, predict_log_reg)*100))"
   ]
  },
  {
   "cell_type": "code",
   "execution_count": 16,
   "id": "5539ca30",
   "metadata": {},
   "outputs": [
    {
     "name": "stderr",
     "output_type": "stream",
     "text": [
      "C:\\ProgramData\\anaconda3\\Lib\\site-packages\\sklearn\\utils\\validation.py:1184: DataConversionWarning: A column-vector y was passed when a 1d array was expected. Please change the shape of y to (n_samples, ), for example using ravel().\n",
      "  y = column_or_1d(y, warn=True)\n"
     ]
    }
   ],
   "source": [
    "sample_weights = class_weight.compute_sample_weight(\"balanced\", mdep_train)\n",
    "log_reg.fit(mtrain_s, mdep_train, sample_weight=sample_weights)\n",
    "pred = log_reg.predict(mtrain_s)"
   ]
  },
  {
   "cell_type": "code",
   "execution_count": 17,
   "id": "cf6ee7e9",
   "metadata": {},
   "outputs": [
    {
     "name": "stdout",
     "output_type": "stream",
     "text": [
      "precision 0.22704081632653061 \n",
      " recall 0.5266272189349113 \n",
      " среднее значение точности и запоминания  0.3172905525846702 \n",
      " матрица ошибок \n",
      " [[514 303]\n",
      " [ 80  89]]\n",
      "Акуратность модели в процентах 61.15618661257607\n"
     ]
    }
   ],
   "source": [
    "precision_mtrain = precision_score(mdep_train,pred)\n",
    "recall_mtrain = recall_score(mdep_train,pred) \n",
    "f1_mtrain = f1_score(mdep_train,pred)\n",
    "confusion_mtrain = confusion_matrix(mdep_train,pred)\n",
    "print('precision', precision_mtrain  , '\\n' , 'recall' , recall_mtrain, '\\n' , 'среднее значение точности и запоминания ' , f1_mtrain,\n",
    "      '\\n', 'матрица ошибок \\n' , confusion_mtrain)\n",
    "print('Акуратность модели в процентах',(accuracy_score(mdep_train, pred)*100))"
   ]
  },
  {
   "cell_type": "code",
   "execution_count": 18,
   "id": "14d48daa",
   "metadata": {},
   "outputs": [
    {
     "name": "stderr",
     "output_type": "stream",
     "text": [
      "C:\\ProgramData\\anaconda3\\Lib\\site-packages\\sklearn\\utils\\validation.py:1184: DataConversionWarning: A column-vector y was passed when a 1d array was expected. Please change the shape of y to (n_samples, ), for example using ravel().\n",
      "  y = column_or_1d(y, warn=True)\n"
     ]
    }
   ],
   "source": [
    "sample_weights = class_weight.compute_sample_weight(\"balanced\", mdep_test)\n",
    "log_reg.fit(mtest_s, mdep_test, sample_weight=sample_weights)\n",
    "pred = log_reg.predict(mtest_s)\n"
   ]
  },
  {
   "cell_type": "code",
   "execution_count": 19,
   "id": "ac7a3dc2",
   "metadata": {},
   "outputs": [
    {
     "name": "stdout",
     "output_type": "stream",
     "text": [
      "precision 0.2469879518072289 \n",
      " recall 0.6212121212121212 \n",
      " среднее значение точности и запоминания  0.353448275862069 \n",
      " матрица ошибок \n",
      " [[232 125]\n",
      " [ 25  41]]\n",
      "Акуратность модели в процентах 64.53900709219859\n"
     ]
    }
   ],
   "source": [
    "precision_mtest = precision_score(mdep_test,pred)\n",
    "recall_mtest = recall_score(mdep_test,pred) \n",
    "f1scoretest = f1_score(mdep_test,pred)\n",
    "confusion_mtest = confusion_matrix(mdep_test,pred)\n",
    "print('precision', precision_mtest  , \n",
    "          '\\n' , 'recall' , recall_mtest, '\\n' , 'среднее значение точности и запоминания ', f1scoretest, '\\n', 'матрица ошибок \\n' , confusion_mtest)\n",
    "print('Акуратность модели в процентах',(accuracy_score(mdep_test, pred)*100))"
   ]
  },
  {
   "cell_type": "code",
   "execution_count": 30,
   "id": "e997e62e",
   "metadata": {},
   "outputs": [
    {
     "name": "stderr",
     "output_type": "stream",
     "text": [
      "C:\\ProgramData\\anaconda3\\Lib\\site-packages\\sklearn\\base.py:1151: DataConversionWarning: A column-vector y was passed when a 1d array was expected. Please change the shape of y to (n_samples,), for example using ravel().\n",
      "  return fit_method(estimator, *args, **kwargs)\n",
      "C:\\ProgramData\\anaconda3\\Lib\\site-packages\\sklearn\\base.py:457: UserWarning: X has feature names, but RandomForestClassifier was fitted without feature names\n",
      "  warnings.warn(\n",
      "C:\\ProgramData\\anaconda3\\Lib\\site-packages\\sklearn\\base.py:1151: DataConversionWarning: A column-vector y was passed when a 1d array was expected. Please change the shape of y to (n_samples,), for example using ravel().\n",
      "  return fit_method(estimator, *args, **kwargs)\n",
      "C:\\ProgramData\\anaconda3\\Lib\\site-packages\\sklearn\\base.py:457: UserWarning: X has feature names, but RandomForestClassifier was fitted without feature names\n",
      "  warnings.warn(\n"
     ]
    }
   ],
   "source": [
    "tree = RandomForestClassifier (n_estimators=77, max_depth=9 , min_samples_leaf= 36 , max_features= 26)\n",
    "sample_weights = class_weight.compute_sample_weight(\"balanced\", mdep_train)\n",
    "tree.fit(mtrain_s, mdep_train)\n",
    "pred = tree.predict(df_mtest_s)\n",
    "tree.fit(mtest_s, mdep_test)\n",
    "dep_pred = tree.predict(df_mtrain_s)\n"
   ]
  },
  {
   "cell_type": "code",
   "execution_count": 36,
   "id": "2dfdeaac",
   "metadata": {},
   "outputs": [
    {
     "data": {
      "image/png": "[encoded data removed]",
      "text/plain": [
       "<Figure size 640x480 with 1 Axes>"
      ]
     },
     "metadata": {},
     "output_type": "display_data"
    }
   ],
   "source": [
    "y_pred_proba = tree.predict_proba(mtrain_s) [:,1]\n",
    "fpr, tpr, treshold = metrics.roc_curve(mdep_train, y_pred_proba)\n",
    "auc = metrics.roc_auc_score(mdep_train, y_pred_proba)\n",
    "plt.plot (fpr,tpr,label=\"RandomForrest= \"+str(auc), color = 'green')\n",
    "x_pred_proba = log_reg.predict_proba(mtrain_s) [:,1]\n",
    "fpr, tpr, treshold = metrics.roc_curve(mdep_train, x_pred_proba)\n",
    "auc = metrics.roc_auc_score(mdep_train, x_pred_proba)\n",
    "plt.plot (fpr,tpr,label=\"Logistic Regretion = \"+str(auc), color='red')\n",
    "\n",
    "plt.ylabel('True Positive Rate')\n",
    "plt.xlabel('False Positive Rate')\n",
    "plt.legend(loc=4)\n",
    "plt.plot([0, 1], [0, 1], color='navy', linestyle='--')\n",
    "plt.show()\n"
   ]
  },
  {
   "cell_type": "code",
   "execution_count": null,
   "id": "fba590bb",
   "metadata": {},
   "outputs": [],
   "source": []
  },
  {
   "cell_type": "code",
   "execution_count": null,
   "id": "45be996a",
   "metadata": {},
   "outputs": [],
   "source": []
  },
  {
   "cell_type": "code",
   "execution_count": null,
   "id": "bafa38df",
   "metadata": {},
   "outputs": [],
   "source": []
  }
 ],
 "metadata": {
  "kernelspec": {
   "display_name": "Python 3 (ipykernel)",
   "language": "python",
   "name": "python3"
  },
  "language_info": {
   "codemirror_mode": {
    "name": "ipython",
    "version": 3
   },
   "file_extension": ".py",
   "mimetype": "text/x-python",
   "name": "python",
   "nbconvert_exporter": "python",
   "pygments_lexer": "ipython3",
   "version": "3.11.5"
  }
 },
 "nbformat": 4,
 "nbformat_minor": 5
}
